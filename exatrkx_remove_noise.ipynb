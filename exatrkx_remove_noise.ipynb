{
 "cells": [
  {
   "cell_type": "code",
   "execution_count": null,
   "metadata": {},
   "outputs": [],
   "source": [
    "import os\n",
    "import time\n",
    "import pickle\n",
    "import logging\n",
    "import argparse\n",
    "\n",
    "import numpy as np\n",
    "import pandas as pd\n",
    "import functools\n",
    "\n",
    "import multiprocessing\n",
    "from multiprocessing.dummy import Pool as ThreadPool \n",
    "from multiprocessing import Pool as ProcessPool \n",
    "\n",
    "import trackml.dataset"
   ]
  },
  {
   "cell_type": "code",
   "execution_count": 27,
   "metadata": {},
   "outputs": [],
   "source": [
    "def remove_some_noise(hits, cells, truth, keep=1.0):\n",
    "    if keep == 1.0:\n",
    "        return hits, cells, truth\n",
    "    unique_ids = truth.particle_id.unique()\n",
    "    track_ids_to_keep = unique_ids[np.where(unique_ids != 0)]\n",
    "\n",
    "    where_to_keep = truth['particle_id'].isin(track_ids_to_keep)\n",
    "    \n",
    "    noise_hit_idx = hits[~where_to_keep].hit_id.values\n",
    "    if keep <= 0.0:\n",
    "        noise_hit_idx = []\n",
    "    else:\n",
    "        noise_hit_idx = np.random.permutation(noise_hit_idx)[:int(keep * noise_hit_idx.shape[0])]\n",
    "        \n",
    "    hits_reduced  = pd.concat([hits[where_to_keep], hits[hits['hit_id'].isin(noise_hit_idx)]])\n",
    "    truth_reduced = pd.concat([truth[where_to_keep],  truth[truth['hit_id'].isin(noise_hit_idx)]])\n",
    "\n",
    "    hit_ids_to_keep = truth_reduced.hit_id.values\n",
    "    cells_reduced = cells[cells['hit_id'].isin(hit_ids_to_keep)]\n",
    "    return hits_reduced, cells_reduced, truth_reduced"
   ]
  },
  {
   "cell_type": "code",
   "execution_count": 28,
   "metadata": {},
   "outputs": [],
   "source": [
    "dir_path = \"/global/cfs/cdirs/m3443/data/trackml-kaggle/train_all\"\n",
    "event_path = os.path.join(dir_path, \"event000001000\")"
   ]
  },
  {
   "cell_type": "code",
   "execution_count": 29,
   "metadata": {},
   "outputs": [],
   "source": [
    "import matplotlib.pyplot as plt\n",
    "%matplotlib inline"
   ]
  },
  {
   "cell_type": "code",
   "execution_count": 40,
   "metadata": {},
   "outputs": [
    {
     "name": "stdout",
     "output_type": "stream",
     "text": [
      "[0.  0.1 0.2 0.3 0.4 0.5 0.6 0.7 0.8 0.9 1. ]\n"
     ]
    },
    {
     "data": {
      "text/plain": [
       "<matplotlib.legend.Legend at 0x2aaade122690>"
      ]
     },
     "execution_count": 40,
     "metadata": {},
     "output_type": "execute_result"
    },
    {
     "data": {
      "image/png": "[encoded data removed]",
      "text/plain": [
       "<Figure size 432x288 with 1 Axes>"
      ]
     },
     "metadata": {
      "needs_background": "light"
     },
     "output_type": "display_data"
    }
   ],
   "source": [
    "hits, cells, particles, truth = trackml.dataset.load_event(event_path)\n",
    "pt = np.sqrt(particles.px**2 + particles.py**2 + particles.pz**2)\n",
    "particles = particles.assign(pt=pt)\n",
    "keeps = np.arange(0.0, 1.1, 0.1)\n",
    "print(keeps)\n",
    "\n",
    "noise_hits = []\n",
    "not_noise_hits = []\n",
    "\n",
    "for i in keeps:\n",
    "    _, _, reduced_truth = remove_some_noise(hits, cells, truth, i)\n",
    "    n_noise = sum(reduced_truth['particle_id'] == 0)\n",
    "    noise_hits.append(n_noise)\n",
    "    not_noise_hits.append(len(reduced_truth) - n_noise)\n",
    "\n",
    "x = np.arange(len(keeps))  # the label locations\n",
    "width = 0.35  # the width of the bars\n",
    "\n",
    "fig, ax = plt.subplots()\n",
    "rects1 = ax.bar(x - width/2, noise_hits, width, label='noise')\n",
    "rects2 = ax.bar(x + width/2, not_noise_hits, width, label='not noise')\n",
    "\n",
    "# Add some text for labels, title and custom x-axis tick labels, etc.\n",
    "ax.set_ylabel('# of hits')\n",
    "ax.set_xlabel('keep')\n",
    "ax.set_xticks(x)\n",
    "labels = ['%.1f' % (i,) for i in keeps]\n",
    "ax.set_xticklabels(labels)\n",
    "ax.legend()"
   ]
  },
  {
   "cell_type": "code",
   "execution_count": null,
   "metadata": {},
   "outputs": [],
   "source": []
  },
  {
   "cell_type": "code",
   "execution_count": null,
   "metadata": {},
   "outputs": [],
   "source": []
  }
 ],
 "metadata": {
  "kernelspec": {
   "display_name": "Python [conda env:exatrkx]",
   "language": "python",
   "name": "conda-env-exatrkx-py"
  },
  "language_info": {
   "codemirror_mode": {
    "name": "ipython",
    "version": 3
   },
   "file_extension": ".py",
   "mimetype": "text/x-python",
   "name": "python",
   "nbconvert_exporter": "python",
   "pygments_lexer": "ipython3",
   "version": "3.7.7"
  }
 },
 "nbformat": 4,
 "nbformat_minor": 4
}
