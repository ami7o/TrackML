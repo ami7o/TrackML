{
 "cells": [
  {
   "cell_type": "code",
   "execution_count": 31,
   "metadata": {},
   "outputs": [],
   "source": [
    "from build_graphs import *\n",
    "from tqdm import tqdm"
   ]
  },
  {
   "cell_type": "code",
   "execution_count": 32,
   "metadata": {},
   "outputs": [],
   "source": [
    "feature_names = ['x', 'y', 'z', 'cell_count', 'cell_val', 'leta', 'lphi', 'lx', 'ly', 'lz', 'geta', 'gphi']"
   ]
  },
  {
   "cell_type": "markdown",
   "metadata": {},
   "source": [
    "# Embedding"
   ]
  },
  {
   "cell_type": "code",
   "execution_count": 56,
   "metadata": {},
   "outputs": [],
   "source": [
    "def get_one_emb_eff_purity(index, hits, truth, emb_neighbors):\n",
    "    vol = hits[['volume_id', 'layer_id']].values.T\n",
    "    hit = hits.iloc[index]\n",
    "    pid = truth.iloc[index]['particle_id']\n",
    "    \n",
    "    # get true neighbors based on particle id\n",
    "    if pid == 0:\n",
    "        true_neighbors = []\n",
    "    else:\n",
    "        hit_idx = truth[truth['particle_id']==pid]['hit_id']\n",
    "        true_hits = hits[hits['hit_id'].isin(hit_idx) & (hits['hit_id'] != hit['hit_id'])]\n",
    "        true_neighbors = true_hits.index.values.astype(int)\n",
    "    \n",
    "    emb_neighbors = emb_neighbors[index]\n",
    "    \n",
    "    # calculate purity and eff\n",
    "    n_true_neighbors = sum(map(lambda n : n in true_neighbors, emb_neighbors))\n",
    "    purity = n_true_neighbors / len(emb_neighbors) if len(emb_neighbors) > 0 else None\n",
    "    efficiency = n_true_neighbors / len(true_neighbors) if len(true_neighbors) > 0 else None\n",
    "    return purity, efficiency"
   ]
  },
  {
   "cell_type": "code",
   "execution_count": 51,
   "metadata": {},
   "outputs": [],
   "source": [
    "def get_emb_eff_purity(hits, truth, emb_neighbors):\n",
    "    n_iter = len(hits)\n",
    "    purity = []\n",
    "    efficiency = []\n",
    "\n",
    "    for i in tqdm(range(n_iter)):\n",
    "        p, eff = get_one_emb_eff_purity(i, hits, truth, emb_neighbors)\n",
    "        if p: purity.append(p)\n",
    "        if eff: efficiency.append(eff)\n",
    "\n",
    "    return purity, efficiency"
   ]
  },
  {
   "cell_type": "markdown",
   "metadata": {},
   "source": [
    "# Filtering"
   ]
  },
  {
   "cell_type": "code",
   "execution_count": 52,
   "metadata": {},
   "outputs": [],
   "source": [
    "def get_filter_eff_purity(hits, truth, neighbors):\n",
    "    vol = hits[['volume_id', 'layer_id']].values.T\n",
    "\n",
    "    batch_size = 64\n",
    "    num_workers = 12 if DEVICE=='cuda' else 0\n",
    "    dataset = EdgeData(hits[feature_names].values, vol, neighbors)\n",
    "    loader = DataLoader(dataset,\n",
    "                        batch_size = batch_size,\n",
    "                        num_workers = num_workers,\n",
    "                        collate_fn = my_collate)\n",
    "    # apply filter model\n",
    "    idx_pairs, scores = predict_pairs(loader, filter_model, batch_size)\n",
    "    \n",
    "    # get true pairs\n",
    "    true_pairs = []\n",
    "    truth_np = np.array(truth.values)\n",
    "    \n",
    "    with torch.autograd.no_grad():\n",
    "        for i, pair in tqdm(enumerate(idx_pairs)):\n",
    "            hit_a = truth_np[pair[0], 1]\n",
    "            hit_b = truth_np[pair[1], 1]\n",
    "            if hit_a != 0 and hit_a == hit_b: #compare particle id\n",
    "                true_pairs.append((pair[0], pair[1]))\n",
    "                \n",
    "    # get filtered pairs\n",
    "    filter_pairs, _ = apply_filter(idx_pairs, scores, 0.95)\n",
    "    filter_pairs = [(pair[0], pair[1]) for pair in filter_pairs]\n",
    "    \n",
    "    # calculate efficiency and purity\n",
    "    true_pairs_set = frozenset(true_pairs)\n",
    "    n_true_pairs = sum(map(lambda n : n in true_pairs_set, filter_pairs))\n",
    "    purity = n_true_pairs / len(filter_pairs)\n",
    "    efficiency = n_true_pairs / len(true_pairs)\n",
    "    return purity, efficiency"
   ]
  },
  {
   "cell_type": "markdown",
   "metadata": {},
   "source": [
    "# Overall purity and efficiency"
   ]
  },
  {
   "cell_type": "code",
   "execution_count": 65,
   "metadata": {},
   "outputs": [],
   "source": [
    "def get_overall_eff_purity(hits, truth, neighbors):\n",
    "    vol = hits[['volume_id', 'layer_id']].values.T\n",
    "\n",
    "    batch_size = 64\n",
    "    num_workers = 12 if DEVICE=='cuda' else 0\n",
    "    dataset = EdgeData(hits[feature_names].values, vol, neighbors)\n",
    "    loader = DataLoader(dataset,\n",
    "                        batch_size = batch_size,\n",
    "                        num_workers = num_workers,\n",
    "                        collate_fn = my_collate)\n",
    "    # apply filter model\n",
    "    idx_pairs, scores = predict_pairs(loader, filter_model, batch_size)\n",
    "    \n",
    "    # get true pairs from original dataset\n",
    "    true_pairs = []\n",
    "    for pid in tqdm(truth['particle_id'].unique()):\n",
    "        if pid == 0: continue\n",
    "        seed_hits = hits[truth['particle_id']==pid].index.values.astype(int)\n",
    "        for i in seed_hits:\n",
    "            hit = hits.iloc[i]\n",
    "            true_neighbors = filter_one_neighborhood(hit['volume_id'], hit['layer_id'], seed_hits, vol[0], vol[1])\n",
    "            true_pairs += [(i, n) for n in true_neighbors]\n",
    "                \n",
    "    # get filtered pairs\n",
    "    filter_pairs, _ = apply_filter(idx_pairs, scores, 0.95)\n",
    "    filter_pairs = [(pair[0], pair[1]) for pair in filter_pairs]\n",
    "    \n",
    "    # calculate efficiency and purity\n",
    "    true_pairs_set = frozenset(true_pairs)\n",
    "    n_true_pairs = sum(map(lambda n : n in true_pairs_set, filter_pairs))\n",
    "    purity = n_true_pairs / len(filter_pairs)\n",
    "    efficiency = n_true_pairs / len(true_pairs)\n",
    "    return purity, efficiency"
   ]
  },
  {
   "cell_type": "markdown",
   "metadata": {},
   "source": [
    "# Plotting"
   ]
  },
  {
   "cell_type": "code",
   "execution_count": 54,
   "metadata": {},
   "outputs": [
    {
     "data": {
      "text/plain": [
       "Edge_MLP(\n",
       "  (layers): ModuleList(\n",
       "    (0): Linear(in_features=28, out_features=512, bias=True)\n",
       "    (1): Linear(in_features=512, out_features=512, bias=True)\n",
       "    (2): Linear(in_features=512, out_features=512, bias=True)\n",
       "  )\n",
       "  (act1): ReLU()\n",
       "  (final_layer): Linear(in_features=512, out_features=1, bias=True)\n",
       "  (act2): Sigmoid()\n",
       ")"
      ]
     },
     "execution_count": 54,
     "metadata": {},
     "output_type": "execute_result"
    }
   ],
   "source": [
    "artifact_storage_path = \"/global/cfs/cdirs/m3443/usr/aoka/data/artifacts/Training_Example_no_ptcut\"\n",
    "best_emb_path = os.path.join(artifact_storage_path, 'metric_learning_emb', 'best_model.pkl')\n",
    "best_filter_path = os.path.join(artifact_storage_path, 'metric_learning_filter', 'best_model.pkl')    \n",
    "    \n",
    "emb_model = load_embed_model(best_emb_path, DEVICE).to(DEVICE)\n",
    "filter_model = load_filter_model(best_filter_path, DEVICE).to(DEVICE)\n",
    "emb_model.eval()\n",
    "filter_model.eval()"
   ]
  },
  {
   "cell_type": "code",
   "execution_count": 66,
   "metadata": {},
   "outputs": [
    {
     "name": "stdout",
     "output_type": "stream",
     "text": [
      "event: 0 number of hits: 52482\n"
     ]
    },
    {
     "name": "stderr",
     "output_type": "stream",
     "text": [
      "100%|██████████| 52482/52482 [09:49<00:00, 89.06it/s] \n"
     ]
    },
    {
     "name": "stdout",
     "output_type": "stream",
     "text": [
      "emb result: 0.00771521702260409 0.8924984495230237\n",
      "    0% of doublets filtered\n",
      "   20% of doublets filtered\n",
      "   40% of doublets filtered\n",
      "   60% of doublets filtered\n",
      "   80% of doublets filtered\n",
      "  100% of doublets filtered\n"
     ]
    },
    {
     "name": "stderr",
     "output_type": "stream",
     "text": [
      "10485632it [00:23, 453737.09it/s]\n"
     ]
    },
    {
     "name": "stdout",
     "output_type": "stream",
     "text": [
      "filter result: 0.08907730748588197 0.9622583833464098\n",
      "    0% of doublets filtered\n",
      "   20% of doublets filtered\n",
      "   40% of doublets filtered\n",
      "   60% of doublets filtered\n",
      "   80% of doublets filtered\n",
      "  100% of doublets filtered\n"
     ]
    },
    {
     "name": "stderr",
     "output_type": "stream",
     "text": [
      "100%|██████████| 8187/8187 [00:32<00:00, 248.21it/s]\n"
     ]
    },
    {
     "name": "stdout",
     "output_type": "stream",
     "text": [
      "overall result: 0.08907730748588197 0.9339102056962025\n",
      "event: 0.2 number of hits: 55094\n"
     ]
    },
    {
     "name": "stderr",
     "output_type": "stream",
     "text": [
      "100%|██████████| 55094/55094 [09:59<00:00, 91.89it/s] \n"
     ]
    },
    {
     "name": "stdout",
     "output_type": "stream",
     "text": [
      "emb result: 0.007346040755355667 0.8924984495230237\n",
      "    0% of doublets filtered\n",
      "   20% of doublets filtered\n",
      "   40% of doublets filtered\n",
      "   60% of doublets filtered\n",
      "   80% of doublets filtered\n",
      "  100% of doublets filtered\n"
     ]
    },
    {
     "name": "stderr",
     "output_type": "stream",
     "text": [
      "11471101it [00:25, 447712.72it/s]\n"
     ]
    },
    {
     "name": "stdout",
     "output_type": "stream",
     "text": [
      "filter result: 0.08157498978552628 0.9622583833464098\n",
      "    0% of doublets filtered\n",
      "   20% of doublets filtered\n",
      "   40% of doublets filtered\n",
      "   60% of doublets filtered\n",
      "   80% of doublets filtered\n",
      "  100% of doublets filtered\n"
     ]
    },
    {
     "name": "stderr",
     "output_type": "stream",
     "text": [
      "100%|██████████| 8188/8188 [00:31<00:00, 256.94it/s]\n"
     ]
    },
    {
     "name": "stdout",
     "output_type": "stream",
     "text": [
      "overall result: 0.08157498978552628 0.9339102056962025\n",
      "event: 0.4 number of hits: 57699\n"
     ]
    },
    {
     "name": "stderr",
     "output_type": "stream",
     "text": [
      "100%|██████████| 57699/57699 [10:23<00:00, 92.56it/s] \n"
     ]
    },
    {
     "name": "stdout",
     "output_type": "stream",
     "text": [
      "emb result: 0.007015680559365761 0.8924984495230237\n",
      "    0% of doublets filtered\n",
      "   20% of doublets filtered\n",
      "   40% of doublets filtered\n",
      "   60% of doublets filtered\n",
      "   80% of doublets filtered\n",
      "  100% of doublets filtered\n"
     ]
    },
    {
     "name": "stderr",
     "output_type": "stream",
     "text": [
      "12577944it [00:28, 442660.15it/s]\n"
     ]
    },
    {
     "name": "stdout",
     "output_type": "stream",
     "text": [
      "filter result: 0.07464112790405418 0.9622387740338079\n",
      "    0% of doublets filtered\n",
      "   20% of doublets filtered\n",
      "   40% of doublets filtered\n",
      "   60% of doublets filtered\n",
      "   80% of doublets filtered\n",
      "  100% of doublets filtered\n"
     ]
    },
    {
     "name": "stderr",
     "output_type": "stream",
     "text": [
      "100%|██████████| 8188/8188 [00:32<00:00, 253.94it/s]\n"
     ]
    },
    {
     "name": "stdout",
     "output_type": "stream",
     "text": [
      "overall result: 0.07464112790405418 0.9339102056962025\n",
      "event: 0.6 number of hits: 60314\n"
     ]
    },
    {
     "name": "stderr",
     "output_type": "stream",
     "text": [
      "100%|██████████| 60314/60314 [10:42<00:00, 93.81it/s] \n"
     ]
    },
    {
     "name": "stdout",
     "output_type": "stream",
     "text": [
      "emb result: 0.006717121028668571 0.8924984495230237\n",
      "    0% of doublets filtered\n",
      "   20% of doublets filtered\n",
      "   40% of doublets filtered\n",
      "   60% of doublets filtered\n",
      "   80% of doublets filtered\n",
      "  100% of doublets filtered\n"
     ]
    },
    {
     "name": "stderr",
     "output_type": "stream",
     "text": [
      "13750204it [00:31, 441024.71it/s]\n"
     ]
    },
    {
     "name": "stdout",
     "output_type": "stream",
     "text": [
      "filter result: 0.06807737306994444 0.962228969677209\n",
      "    0% of doublets filtered\n",
      "   20% of doublets filtered\n",
      "   40% of doublets filtered\n",
      "   60% of doublets filtered\n",
      "   80% of doublets filtered\n",
      "  100% of doublets filtered\n"
     ]
    },
    {
     "name": "stderr",
     "output_type": "stream",
     "text": [
      "100%|██████████| 8188/8188 [00:32<00:00, 249.17it/s]\n"
     ]
    },
    {
     "name": "stdout",
     "output_type": "stream",
     "text": [
      "overall result: 0.06807737306994444 0.9339102056962025\n",
      "event: 0.8 number of hits: 62859\n"
     ]
    },
    {
     "name": "stderr",
     "output_type": "stream",
     "text": [
      "100%|██████████| 62859/62859 [11:09<00:00, 93.93it/s] \n"
     ]
    },
    {
     "name": "stdout",
     "output_type": "stream",
     "text": [
      "emb result: 0.00645126258630914 0.8924984495230237\n",
      "    0% of doublets filtered\n",
      "   20% of doublets filtered\n",
      "   40% of doublets filtered\n",
      "   60% of doublets filtered\n",
      "   80% of doublets filtered\n",
      "  100% of doublets filtered\n"
     ]
    },
    {
     "name": "stderr",
     "output_type": "stream",
     "text": [
      "14988048it [00:33, 452840.56it/s]\n"
     ]
    },
    {
     "name": "stdout",
     "output_type": "stream",
     "text": [
      "filter result: 0.062494705913494625 0.9622387740338079\n",
      "    0% of doublets filtered\n",
      "   20% of doublets filtered\n",
      "   40% of doublets filtered\n",
      "   60% of doublets filtered\n",
      "   80% of doublets filtered\n",
      "  100% of doublets filtered\n"
     ]
    },
    {
     "name": "stderr",
     "output_type": "stream",
     "text": [
      "100%|██████████| 8188/8188 [00:33<00:00, 246.85it/s]\n"
     ]
    },
    {
     "name": "stdout",
     "output_type": "stream",
     "text": [
      "overall result: 0.062494705913494625 0.9339102056962025\n",
      "event: 1 number of hits: 65518\n"
     ]
    },
    {
     "name": "stderr",
     "output_type": "stream",
     "text": [
      "100%|██████████| 65518/65518 [11:22<00:00, 96.03it/s] \n"
     ]
    },
    {
     "name": "stdout",
     "output_type": "stream",
     "text": [
      "emb result: 0.006198750267944672 0.8924984495230237\n",
      "    0% of doublets filtered\n",
      "   20% of doublets filtered\n",
      "   60% of doublets filtered\n",
      "   80% of doublets filtered\n"
     ]
    },
    {
     "name": "stderr",
     "output_type": "stream",
     "text": [
      "16364219it [00:37, 438289.69it/s]\n"
     ]
    },
    {
     "name": "stdout",
     "output_type": "stream",
     "text": [
      "filter result: 0.05696594240490294 0.962228969677209\n",
      "    0% of doublets filtered\n",
      "   20% of doublets filtered\n",
      "   40% of doublets filtered\n",
      "   60% of doublets filtered\n",
      "   80% of doublets filtered\n",
      "  100% of doublets filtered\n"
     ]
    },
    {
     "name": "stderr",
     "output_type": "stream",
     "text": [
      "100%|██████████| 8188/8188 [00:32<00:00, 248.25it/s]\n"
     ]
    },
    {
     "name": "stdout",
     "output_type": "stream",
     "text": [
      "overall result: 0.05696594240490294 0.9339102056962025\n"
     ]
    },
    {
     "data": {
      "image/png": "[encoded data removed]",
      "text/plain": [
       "<Figure size 720x720 with 6 Axes>"
      ]
     },
     "metadata": {
      "needs_background": "light"
     },
     "output_type": "display_data"
    }
   ],
   "source": [
    "import matplotlib.pyplot as plt\n",
    "%matplotlib inline\n",
    "\n",
    "noise_keeps = [\"0\", \"0.2\", \"0.4\", \"0.6\", \"0.8\", \"1\"]\n",
    "emb_ps = []\n",
    "emb_efs = []\n",
    "filter_ps = []\n",
    "filter_efs = []\n",
    "overall_ps = []\n",
    "overall_efs = []\n",
    "\n",
    "fig, axes = plt.subplots(2, 3, figsize=(10,10))\n",
    "\n",
    "for i, noise_keep in enumerate(noise_keeps):\n",
    "    event_name = \"event000001000.pickle\"\n",
    "    data_path = f\"/global/cfs/cdirs/m3443/usr/aoka/data/classify/Classify_Example_{noise_keep}/preprocess_raw\"\n",
    "    hits, truth = load_event(data_path, event_name)\n",
    "    print(\"event:\", noise_keep, \"number of hits:\", len(hits))\n",
    "    \n",
    "    neighbors = get_emb_neighbors(hits[feature_names].values, emb_model, 0.4)\n",
    "    \n",
    "    emb_purity, emb_efficiency = get_emb_eff_purity(hits, truth, neighbors)\n",
    "    axes[i//3][i%3].hist(emb_purity, 50, range=(0, 0.1))\n",
    "    emb_purity = sum(emb_purity)/len(emb_purity)\n",
    "    emb_efficiency = sum(emb_efficiency)/len(emb_efficiency)\n",
    "    print(\"emb result:\", emb_purity, emb_efficiency)\n",
    "    emb_ps.append(emb_purity)\n",
    "    emb_efs.append(emb_efficiency)\n",
    "    \n",
    "    filter_purity, filter_efficiency = get_filter_eff_purity(hits, truth, neighbors)\n",
    "    print(\"filter result:\", filter_purity, filter_efficiency)\n",
    "    filter_ps.append(filter_purity)\n",
    "    filter_efs.append(filter_efficiency)\n",
    "    \n",
    "    overall_purity, overall_efficiency = get_overall_eff_purity(hits, truth, neighbors)\n",
    "    print(\"overall result:\", overall_purity, overall_efficiency)\n",
    "    overall_ps.append(overall_purity)\n",
    "    overall_efs.append(overall_efficiency)\n",
    "    \n",
    "plt.tight_layout()"
   ]
  },
  {
   "cell_type": "code",
   "execution_count": 72,
   "metadata": {},
   "outputs": [
    {
     "data": {
      "image/png": "[encoded data removed]",
      "text/plain": [
       "<Figure size 720x720 with 6 Axes>"
      ]
     },
     "metadata": {
      "needs_background": "light"
     },
     "output_type": "display_data"
    }
   ],
   "source": [
    "import matplotlib.pyplot as plt\n",
    "%matplotlib inline\n",
    "\n",
    "import numpy as np\n",
    "\n",
    "fig, ((ax1, ax2), (ax3, ax4), (ax5, ax6)) = plt.subplots(3,2, figsize=(10,10))\n",
    "x = [float(keep) for keep in noise_keeps]\n",
    "ax1.plot(x, emb_ps)\n",
    "ax1.set_title(\"embedding purity\")\n",
    "ax1.set_xlabel(\"noise_keep\")\n",
    "ax2.plot(x, emb_efs)\n",
    "ax2.set_title(\"embedding efficiency\")\n",
    "ax2.set_xlabel(\"noise_keep\")\n",
    "\n",
    "ax3.plot(x, filter_ps)\n",
    "ax3.set_title(\"filtering purity\")\n",
    "ax3.set_xlabel(\"noise_keep\")\n",
    "ax4.plot(x, filter_efs)\n",
    "ax4.set_ylim(0.96, 0.965)\n",
    "ax4.set_title(\"filtering efficiency\")\n",
    "ax4.set_xlabel(\"noise_keep\")\n",
    "\n",
    "ax5.plot(x, overall_ps)\n",
    "ax5.set_title(\"overall purity\")\n",
    "ax5.set_xlabel(\"noise_keep\")\n",
    "ax6.plot(x, overall_efs)\n",
    "ax6.set_title(\"overall efficiency\")\n",
    "ax6.set_xlabel(\"noise_keep\")\n",
    "\n",
    "plt.tight_layout()"
   ]
  },
  {
   "cell_type": "code",
   "execution_count": null,
   "metadata": {},
   "outputs": [],
   "source": []
  }
 ],
 "metadata": {
  "kernelspec": {
   "display_name": "Python [conda env:.conda-exatrkx]",
   "language": "python",
   "name": "conda-env-.conda-exatrkx-py"
  },
  "language_info": {
   "codemirror_mode": {
    "name": "ipython",
    "version": 3
   },
   "file_extension": ".py",
   "mimetype": "text/x-python",
   "name": "python",
   "nbconvert_exporter": "python",
   "pygments_lexer": "ipython3",
   "version": "3.7.7"
  }
 },
 "nbformat": 4,
 "nbformat_minor": 4
}
