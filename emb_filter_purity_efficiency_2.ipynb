{
 "cells": [
  {
   "cell_type": "code",
   "execution_count": 1,
   "metadata": {},
   "outputs": [],
   "source": [
    "from build_graphs import *"
   ]
  },
  {
   "cell_type": "code",
   "execution_count": 2,
   "metadata": {},
   "outputs": [],
   "source": [
    "feature_names = ['x', 'y', 'z', 'cell_count', 'cell_val', 'leta', 'lphi', 'lx', 'ly', 'lz', 'geta', 'gphi']"
   ]
  },
  {
   "cell_type": "code",
   "execution_count": 3,
   "metadata": {},
   "outputs": [
    {
     "data": {
      "text/plain": [
       "Edge_MLP(\n",
       "  (layers): ModuleList(\n",
       "    (0): Linear(in_features=28, out_features=512, bias=True)\n",
       "    (1): Linear(in_features=512, out_features=512, bias=True)\n",
       "    (2): Linear(in_features=512, out_features=512, bias=True)\n",
       "  )\n",
       "  (act1): ReLU()\n",
       "  (final_layer): Linear(in_features=512, out_features=1, bias=True)\n",
       "  (act2): Sigmoid()\n",
       ")"
      ]
     },
     "execution_count": 3,
     "metadata": {},
     "output_type": "execute_result"
    }
   ],
   "source": [
    "artifact_storage_path = \"/global/cfs/cdirs/m3443/usr/aoka/data/artifacts/Training_Example_0\"\n",
    "best_emb_path = os.path.join(artifact_storage_path, 'metric_learning_emb', 'best_model.pkl')\n",
    "best_filter_path = os.path.join(artifact_storage_path, 'metric_learning_filter', 'best_model.pkl')    \n",
    "    \n",
    "emb_model = load_embed_model(best_emb_path, DEVICE).to(DEVICE)\n",
    "filter_model = load_filter_model(best_filter_path, DEVICE).to(DEVICE)\n",
    "emb_model.eval()\n",
    "filter_model.eval()"
   ]
  },
  {
   "cell_type": "markdown",
   "metadata": {},
   "source": [
    "# Embedding"
   ]
  },
  {
   "cell_type": "code",
   "execution_count": 5,
   "metadata": {},
   "outputs": [],
   "source": [
    "def get_one_emb_eff_purity(index, hits, truth, emb_neighbors):\n",
    "    vol = hits[['volume_id', 'layer_id']].values.T\n",
    "    hit = hits.iloc[index]\n",
    "    pid = truth.iloc[index]['particle_id']\n",
    "    \n",
    "    # get true neighbors based on particle id\n",
    "    if pid == 0:\n",
    "        true_neighbors = []\n",
    "    else:\n",
    "        hit_idx = truth[truth['particle_id']==pid]['hit_id']\n",
    "        true_hits = hits[hits['hit_id'].isin(hit_idx) & (hits['hit_id'] != hit['hit_id'])]\n",
    "        true_neighbors = true_hits.index.values.astype(int)\n",
    "        #true_neighbors = filter_one_neighborhood(hit['volume_id'], hit['layer_id'], neighbors, vol[0], vol[1])\n",
    "    \n",
    "    #emb_neighbors = filter_one_neighborhood(hit['volume_id'], hit['layer_id'], emb_neighbors[index], vol[0], vol[1])\n",
    "    emb_neighbors = emb_neighbors[index]\n",
    "    \n",
    "    # calculate purity and eff\n",
    "    n_true_neighbors = sum(map(lambda n : n in true_neighbors, emb_neighbors))\n",
    "    purity = n_true_neighbors / len(emb_neighbors) if len(emb_neighbors) > 0 else None\n",
    "    efficiency = n_true_neighbors / len(true_neighbors) if len(true_neighbors) > 0 else None\n",
    "    return purity, efficiency"
   ]
  },
  {
   "cell_type": "code",
   "execution_count": 6,
   "metadata": {},
   "outputs": [],
   "source": [
    "def get_emb_eff_purity(hits, truth, emb_neighbors):\n",
    "    n_iter = len(hits)\n",
    "    purity = []\n",
    "    efficiency = []\n",
    "\n",
    "    for i in range(n_iter):\n",
    "        p, eff = get_one_emb_eff_purity(i, hits, truth, emb_neighbors)\n",
    "        if p: purity.append(p)\n",
    "        if eff: efficiency.append(eff)\n",
    "        if i % (n_iter//10) == 0:\n",
    "            print(int((i+1) / (n_iter//100)),\"% done\")\n",
    "\n",
    "    return purity, efficiency"
   ]
  },
  {
   "cell_type": "code",
   "execution_count": 7,
   "metadata": {},
   "outputs": [
    {
     "name": "stdout",
     "output_type": "stream",
     "text": [
      "number of hits: 57692\n",
      "0 % done\n",
      "10 % done\n",
      "20 % done\n",
      "30 % done\n",
      "40 % done\n",
      "50 % done\n",
      "60 % done\n",
      "70 % done\n",
      "80 % done\n",
      "90 % done\n",
      "100 % done\n"
     ]
    }
   ],
   "source": [
    "event_name = \"event000001000.pickle\"\n",
    "data_path = f\"/global/cfs/cdirs/m3443/usr/aoka/data/classify/Classify_Example_0.4/preprocess_raw\"\n",
    "hits, truth = load_event(data_path, event_name)\n",
    "print(\"number of hits:\", len(hits))\n",
    "\n",
    "neighbors = get_emb_neighbors(hits[feature_names].values, emb_model, 0.4)\n",
    "\n",
    "emb_purity, emb_efficiency = get_emb_eff_purity(hits, truth, neighbors)"
   ]
  },
  {
   "cell_type": "code",
   "execution_count": 8,
   "metadata": {},
   "outputs": [
    {
     "data": {
      "text/plain": [
       "0.012039429232400032"
      ]
     },
     "execution_count": 8,
     "metadata": {},
     "output_type": "execute_result"
    }
   ],
   "source": [
    "sum(emb_purity)/len(emb_purity)"
   ]
  },
  {
   "cell_type": "code",
   "execution_count": 9,
   "metadata": {},
   "outputs": [
    {
     "data": {
      "text/plain": [
       "0.8470182010966506"
      ]
     },
     "execution_count": 9,
     "metadata": {},
     "output_type": "execute_result"
    }
   ],
   "source": [
    "sum(emb_efficiency)/len(emb_efficiency)"
   ]
  },
  {
   "cell_type": "code",
   "execution_count": 11,
   "metadata": {},
   "outputs": [
    {
     "data": {
      "image/png": "[encoded data removed]",
      "text/plain": [
       "<Figure size 432x288 with 1 Axes>"
      ]
     },
     "metadata": {
      "needs_background": "light"
     },
     "output_type": "display_data"
    }
   ],
   "source": [
    "import matplotlib.pyplot as plt\n",
    "%matplotlib inline\n",
    "plt.hist(emb_purity, 50, range=(0, 0.1))\n",
    "plt.show()"
   ]
  },
  {
   "cell_type": "markdown",
   "metadata": {},
   "source": [
    "# Filtering"
   ]
  },
  {
   "cell_type": "code",
   "execution_count": 12,
   "metadata": {},
   "outputs": [],
   "source": [
    "def get_filter_eff_purity(hits, truth, neighbors):\n",
    "    vol = hits[['volume_id', 'layer_id']].values.T\n",
    "\n",
    "    batch_size = 64\n",
    "    num_workers = 12 if DEVICE=='cuda' else 0\n",
    "    dataset = EdgeData(hits[feature_names].values, vol, neighbors)\n",
    "    loader = DataLoader(dataset,\n",
    "                        batch_size = batch_size,\n",
    "                        num_workers = num_workers,\n",
    "                        collate_fn = my_collate)\n",
    "    # apply filter model\n",
    "    idx_pairs, scores = predict_pairs(loader, filter_model, batch_size)\n",
    "    \n",
    "    # get true pairs\n",
    "    true_pairs = []\n",
    "    truth_np = np.matrix(truth.values)\n",
    "\n",
    "    with torch.autograd.no_grad():\n",
    "        for i, pair in enumerate(idx_pairs):\n",
    "            hit_a = truth_np[pair[0], 1]\n",
    "            hit_b = truth_np[pair[1], 1]\n",
    "            if hit_a != 0 and hit_a == hit_b: #compare particle id\n",
    "                true_pairs.append((pair[0], pair[1]))\n",
    "            if i % (len(idx_pairs)//10) == 0:\n",
    "                print(int((i+1) / (len(idx_pairs)//100)),\"% done\")\n",
    "                \n",
    "    # get filtered pairs\n",
    "    filter_pairs, _ = apply_filter(idx_pairs, scores, 0.95)\n",
    "    filter_pairs = [(pair[0], pair[1]) for pair in filter_pairs]\n",
    "    \n",
    "    # calculate efficiency and purity\n",
    "    true_pairs_set = frozenset(true_pairs)\n",
    "    n_true_pairs = sum(map(lambda n : n in true_pairs_set, filter_pairs))\n",
    "    purity = n_true_pairs / len(filter_pairs)\n",
    "    efficiency = n_true_pairs / len(true_pairs)\n",
    "    return purity, efficiency"
   ]
  },
  {
   "cell_type": "code",
   "execution_count": 13,
   "metadata": {},
   "outputs": [
    {
     "name": "stdout",
     "output_type": "stream",
     "text": [
      "event: 0 number of hits: 52482\n",
      "0 % done\n",
      "10 % done\n",
      "20 % done\n",
      "30 % done\n",
      "40 % done\n",
      "50 % done\n",
      "60 % done\n",
      "70 % done\n",
      "80 % done\n",
      "90 % done\n",
      "100 % done\n",
      "emb result: 0.013184823918442428 0.8470182010966506\n",
      "    0% of doublets filtered\n",
      "   20% of doublets filtered\n",
      "   40% of doublets filtered\n",
      "   60% of doublets filtered\n",
      "   80% of doublets filtered\n",
      "  100% of doublets filtered\n",
      "0 % done\n",
      "10 % done\n",
      "20 % done\n",
      "30 % done\n",
      "40 % done\n",
      "50 % done\n",
      "60 % done\n",
      "70 % done\n",
      "80 % done\n",
      "90 % done\n",
      "100 % done\n",
      "filter result: 0.06074889486156405 0.7385275274188294\n",
      "event: 0.2 number of hits: 55059\n",
      "0 % done\n",
      "10 % done\n",
      "20 % done\n",
      "30 % done\n",
      "40 % done\n",
      "50 % done\n",
      "60 % done\n",
      "70 % done\n",
      "80 % done\n",
      "90 % done\n",
      "100 % done\n",
      "emb result: 0.012583616234639968 0.8470182010966506\n",
      "    0% of doublets filtered\n",
      "   20% of doublets filtered\n",
      "   40% of doublets filtered\n",
      "   60% of doublets filtered\n",
      "   80% of doublets filtered\n",
      "  100% of doublets filtered\n",
      "0 % done\n",
      "10 % done\n",
      "20 % done\n",
      "30 % done\n",
      "40 % done\n",
      "50 % done\n",
      "60 % done\n",
      "70 % done\n",
      "80 % done\n",
      "90 % done\n",
      "filter result: 0.053331116823155424 0.7385223472179994\n",
      "event: 0.4 number of hits: 57692\n",
      "0 % done\n",
      "10 % done\n",
      "20 % done\n",
      "30 % done\n",
      "40 % done\n",
      "50 % done\n",
      "60 % done\n",
      "70 % done\n",
      "80 % done\n",
      "90 % done\n",
      "100 % done\n",
      "emb result: 0.012039429232400032 0.8470182010966506\n",
      "    0% of doublets filtered\n",
      "   20% of doublets filtered\n",
      "   40% of doublets filtered\n",
      "   60% of doublets filtered\n",
      "   80% of doublets filtered\n",
      "  100% of doublets filtered\n",
      "0 % done\n",
      "10 % done\n",
      "20 % done\n",
      "30 % done\n",
      "40 % done\n",
      "50 % done\n",
      "60 % done\n",
      "70 % done\n",
      "80 % done\n",
      "90 % done\n",
      "100 % done\n",
      "filter result: 0.04712192431557534 0.7385298684939242\n",
      "event: 0.6 number of hits: 60301\n",
      "0 % done\n",
      "10 % done\n",
      "20 % done\n",
      "30 % done\n",
      "40 % done\n",
      "50 % done\n",
      "60 % done\n",
      "70 % done\n",
      "80 % done\n",
      "90 % done\n",
      "100 % done\n",
      "emb result: 0.011553727949961847 0.8470182010966506\n",
      "    0% of doublets filtered\n",
      "   20% of doublets filtered\n",
      "   40% of doublets filtered\n",
      "   60% of doublets filtered\n",
      "   80% of doublets filtered\n",
      "  100% of doublets filtered\n",
      "0 % done\n",
      "10 % done\n",
      "20 % done\n",
      "30 % done\n",
      "40 % done\n",
      "50 % done\n",
      "60 % done\n",
      "70 % done\n",
      "80 % done\n",
      "90 % done\n",
      "filter result: 0.04162336827803991 0.7385733056783259\n",
      "event: 0.8 number of hits: 62887\n",
      "0 % done\n",
      "10 % done\n",
      "20 % done\n",
      "30 % done\n",
      "40 % done\n",
      "60 % done\n",
      "70 % done\n",
      "80 % done\n",
      "90 % done\n",
      "100 % done\n",
      "emb result: 0.011101673517980328 0.8470182010966506\n",
      "    0% of doublets filtered\n",
      "   20% of doublets filtered\n",
      "   40% of doublets filtered\n",
      "   60% of doublets filtered\n",
      "   80% of doublets filtered\n",
      "  100% of doublets filtered\n",
      "0 % done\n",
      "10 % done\n",
      "20 % done\n",
      "30 % done\n",
      "40 % done\n",
      "50 % done\n",
      "60 % done\n",
      "70 % done\n",
      "80 % done\n",
      "90 % done\n",
      "100 % done\n",
      "filter result: 0.03719867351532114 0.7385246880734941\n",
      "event: 1 number of hits: 65518\n",
      "0 % done\n",
      "10 % done\n",
      "20 % done\n",
      "30 % done\n",
      "40 % done\n",
      "50 % done\n",
      "60 % done\n",
      "70 % done\n",
      "80 % done\n",
      "90 % done\n",
      "100 % done\n",
      "emb result: 0.010688541808116729 0.8470182010966506\n",
      "    0% of doublets filtered\n",
      "   20% of doublets filtered\n",
      "   40% of doublets filtered\n",
      "   60% of doublets filtered\n",
      "   80% of doublets filtered\n",
      "  100% of doublets filtered\n",
      "0 % done\n",
      "10 % done\n",
      "20 % done\n",
      "30 % done\n",
      "40 % done\n",
      "50 % done\n",
      "60 % done\n",
      "70 % done\n",
      "80 % done\n",
      "90 % done\n",
      "100 % done\n",
      "filter result: 0.03314208246755525 0.7385515870861251\n"
     ]
    },
    {
     "data": {
      "image/png": "[encoded data removed]",
      "text/plain": [
       "<Figure size 720x720 with 6 Axes>"
      ]
     },
     "metadata": {
      "needs_background": "light"
     },
     "output_type": "display_data"
    }
   ],
   "source": [
    "import matplotlib.pyplot as plt\n",
    "%matplotlib inline\n",
    "\n",
    "noise_keeps = [\"0\", \"0.2\", \"0.4\", \"0.6\", \"0.8\", \"1\"]\n",
    "emb_ps = []\n",
    "emb_efs = []\n",
    "filter_ps = []\n",
    "filter_efs = []\n",
    "\n",
    "fig, axes = plt.subplots(2, 3, figsize=(10,10))\n",
    "\n",
    "for i, noise_keep in enumerate(noise_keeps):\n",
    "    event_name = \"event000001000.pickle\"\n",
    "    data_path = f\"/global/cfs/cdirs/m3443/usr/aoka/data/classify/Classify_Example_{noise_keep}/preprocess_raw\"\n",
    "    hits, truth = load_event(data_path, event_name)\n",
    "    print(\"event:\", noise_keep, \"number of hits:\", len(hits))\n",
    "    \n",
    "    neighbors = get_emb_neighbors(hits[feature_names].values, emb_model, 0.4)\n",
    "    \n",
    "    emb_purity, emb_efficiency = get_emb_eff_purity(hits, truth, neighbors)\n",
    "    axes[i//3][i%3].hist(emb_purity, 50, range=(0, 0.1))\n",
    "    emb_purity = sum(emb_purity)/len(emb_purity)\n",
    "    emb_efficiency = sum(emb_efficiency)/len(emb_efficiency)\n",
    "    print(\"emb result:\", emb_purity, emb_efficiency)\n",
    "    emb_ps.append(emb_purity)\n",
    "    emb_efs.append(emb_efficiency)\n",
    "    \n",
    "    filter_purity, filter_efficiency = get_filter_eff_purity(hits, truth, neighbors)\n",
    "    print(\"filter result:\", filter_purity, filter_efficiency)\n",
    "    filter_ps.append(filter_purity)\n",
    "    filter_efs.append(filter_efficiency)\n",
    "    \n",
    "plt.tight_layout()"
   ]
  },
  {
   "cell_type": "code",
   "execution_count": 14,
   "metadata": {},
   "outputs": [
    {
     "data": {
      "text/plain": [
       "[0.7385275274188294,\n",
       " 0.7385223472179994,\n",
       " 0.7385298684939242,\n",
       " 0.7385733056783259,\n",
       " 0.7385246880734941,\n",
       " 0.7385515870861251]"
      ]
     },
     "execution_count": 14,
     "metadata": {},
     "output_type": "execute_result"
    }
   ],
   "source": [
    "filter_efs"
   ]
  },
  {
   "cell_type": "code",
   "execution_count": 15,
   "metadata": {},
   "outputs": [
    {
     "data": {
      "image/png": "[encoded data removed]",
      "text/plain": [
       "<Figure size 720x720 with 4 Axes>"
      ]
     },
     "metadata": {
      "needs_background": "light"
     },
     "output_type": "display_data"
    }
   ],
   "source": [
    "import matplotlib.pyplot as plt\n",
    "%matplotlib inline\n",
    "\n",
    "import numpy as np\n",
    "\n",
    "fig, ((ax1, ax2), (ax3, ax4)) = plt.subplots(2, 2, figsize=(10,10))\n",
    "x = [float(keep) for keep in noise_keeps]\n",
    "ax1.plot(x, emb_ps)\n",
    "ax1.set_title(\"embedding purity\")\n",
    "ax1.set_xlabel(\"noise_keep\")\n",
    "ax2.plot(x, emb_efs)\n",
    "ax2.set_title(\"embedding efficiency\")\n",
    "ax2.set_xlabel(\"noise_keep\")\n",
    "\n",
    "ax3.plot(x, filter_ps)\n",
    "ax3.set_title(\"filtering purity\")\n",
    "ax3.set_xlabel(\"noise_keep\")\n",
    "ax4.plot(x, filter_efs)\n",
    "ax4.set_ylim(0.738, 0.739)\n",
    "ax4.set_title(\"filtering efficiency\")\n",
    "ax4.set_xlabel(\"noise_keep\")\n",
    "\n",
    "plt.tight_layout()"
   ]
  },
  {
   "cell_type": "code",
   "execution_count": null,
   "metadata": {},
   "outputs": [],
   "source": []
  },
  {
   "cell_type": "code",
   "execution_count": null,
   "metadata": {},
   "outputs": [],
   "source": []
  }
 ],
 "metadata": {
  "kernelspec": {
   "display_name": "Python [conda env:exatrkx]",
   "language": "python",
   "name": "conda-env-exatrkx-py"
  },
  "language_info": {
   "codemirror_mode": {
    "name": "ipython",
    "version": 3
   },
   "file_extension": ".py",
   "mimetype": "text/x-python",
   "name": "python",
   "nbconvert_exporter": "python",
   "pygments_lexer": "ipython3",
   "version": "3.7.7"
  }
 },
 "nbformat": 4,
 "nbformat_minor": 4
}
